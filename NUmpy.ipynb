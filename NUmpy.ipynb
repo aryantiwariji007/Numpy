{
 "cells": [
  {
   "cell_type": "code",
   "execution_count": 1,
   "id": "a6813712-bfd6-4471-9ea8-9850661e7f13",
   "metadata": {},
   "outputs": [],
   "source": [
    "import numpy as np"
   ]
  },
  {
   "cell_type": "code",
   "execution_count": null,
   "id": "30b52da3-c850-48b5-97fb-18d5de8bc79d",
   "metadata": {},
   "outputs": [],
   "source": []
  },
  {
   "cell_type": "markdown",
   "id": "f9749cb3-75c4-4d5a-ba80-90bbae28ce51",
   "metadata": {},
   "source": [
    "#RESHAPE FUNCTION"
   ]
  },
  {
   "cell_type": "code",
   "execution_count": 5,
   "id": "435df313-77a3-4a6e-8fe9-692aa511cbb7",
   "metadata": {},
   "outputs": [
    {
     "name": "stdout",
     "output_type": "stream",
     "text": [
      "(3, 4)\n",
      "[[10  3  9]\n",
      " [ 1  7  5]\n",
      " [ 1 14 14]\n",
      " [ 6  8 10]]\n"
     ]
    }
   ],
   "source": [
    "arr=np.random.randint(1,15,(3,4))\n",
    "print(arr.shape)\n",
    "arr=arr.reshape(4,3)\n",
    "print(arr)"
   ]
  },
  {
   "cell_type": "markdown",
   "id": "0c5bfe4f-7b09-4f68-ad4d-fe298de10460",
   "metadata": {},
   "source": [
    "#LINESPACE FUNCTION"
   ]
  },
  {
   "cell_type": "code",
   "execution_count": 7,
   "id": "e6fad2e4-4b1d-4c35-8aa7-7c47c29ff4a2",
   "metadata": {},
   "outputs": [
    {
     "data": {
      "text/plain": [
       "array([ 1.  ,  5.25,  9.5 , 13.75, 18.  ])"
      ]
     },
     "execution_count": 7,
     "metadata": {},
     "output_type": "execute_result"
    }
   ],
   "source": [
    "np.linspace(1,18,5)"
   ]
  },
  {
   "cell_type": "markdown",
   "id": "0ef29103-8471-499c-b079-f8473fac0f66",
   "metadata": {},
   "source": [
    "#FLATTEN FUNCTION\n"
   ]
  },
  {
   "cell_type": "code",
   "execution_count": 10,
   "id": "f904a27a-16a0-41ff-b268-49535d394951",
   "metadata": {},
   "outputs": [
    {
     "name": "stdout",
     "output_type": "stream",
     "text": [
      "(3, 4)\n",
      "[[13 11  6  4]\n",
      " [ 6  8 12 13]\n",
      " [10 10  4  3]]\n",
      "----------------------------------------------------------------------------\n",
      "(12,)\n",
      "[13 11  6  4  6  8 12 13 10 10  4  3]\n"
     ]
    }
   ],
   "source": [
    "arr=np.random.randint(1,15,(3,4))\n",
    "print(arr.shape)\n",
    "print(arr)\n",
    "print('-'*76)\n",
    "arr=arr.flatten()\n",
    "print(arr.shape)\n",
    "print(arr)\n"
   ]
  },
  {
   "cell_type": "markdown",
   "id": "2105d98f-cd62-4181-b40b-c17544ca6da8",
   "metadata": {},
   "source": [
    "#LOGSPACE FUNCTION\n"
   ]
  },
  {
   "cell_type": "code",
   "execution_count": 12,
   "id": "8aaad024-5304-4c9f-a416-d50cf0552ce3",
   "metadata": {},
   "outputs": [
    {
     "name": "stdout",
     "output_type": "stream",
     "text": [
      "[ 4.          4.66611616  5.44316     6.34960421  7.4069977   8.64047791\n",
      " 10.0793684  11.75787594 13.71590373 16.        ]\n"
     ]
    }
   ],
   "source": [
    "print(np.logspace(2,4,10, base=2))"
   ]
  },
  {
   "cell_type": "markdown",
   "id": "41aac8fe-d2a0-4dca-9b4d-c80a3b822498",
   "metadata": {},
   "source": [
    "#COPY FUNCTION\n",
    "\n"
   ]
  },
  {
   "cell_type": "code",
   "execution_count": 17,
   "id": "e24c3028-9224-4e7d-bb24-29f6a89aad5d",
   "metadata": {},
   "outputs": [
    {
     "name": "stdout",
     "output_type": "stream",
     "text": [
      "[ 9 14  6  7 14  1  9  5  8 10] 2124109887312\n",
      "[ 9 14  6  7 14  1  9  5  8 10] 2124109887312\n",
      "------------------------------\n",
      "[14 14 10  5  5  6  5 13  7  6] 2124109887504\n",
      "[14 14 10  5  5  6  5 13  7  6] 2124090515760\n"
     ]
    }
   ],
   "source": [
    "arr1=np.random.randint(1,15,10)\n",
    "\n",
    "arr2=arr1\n",
    "print(arr1,id(arr1))\n",
    "print(arr2,id(arr2))\n",
    "print('-'*30)\n",
    "arr1=np.random.randint(1,15,10)\n",
    "arr2=np.copy(arr1)\n",
    "print(arr1,id(arr1))\n",
    "print(arr2,id(arr2))\n",
    "\n"
   ]
  },
  {
   "cell_type": "markdown",
   "id": "ac154d1d-2e7c-4162-bfea-480be46ee08a",
   "metadata": {},
   "source": [
    "#MAX,MIN,SUM FNCS"
   ]
  },
  {
   "cell_type": "code",
   "execution_count": 23,
   "id": "1dc86924-40a2-4724-a862-4ab418a62410",
   "metadata": {},
   "outputs": [
    {
     "name": "stdout",
     "output_type": "stream",
     "text": [
      "[13 11  6  4  6  8 12 13 10 10  4  3]\n",
      "max: 13\n",
      "min: 3\n",
      "sum: 100\n"
     ]
    }
   ],
   "source": [
    "arr1=np.random.randint(1,15,10)\n",
    "print(arr)\n",
    "print(\"max:\",arr.max())\n",
    "print(\"min:\",arr.min())\n",
    "print(\"sum:\",arr.sum())\n"
   ]
  },
  {
   "cell_type": "markdown",
   "id": "d8d6cb0d-0956-45d4-a021-1666bdf96a34",
   "metadata": {},
   "source": [
    "#FOR ROWS\n",
    "\n",
    "\n"
   ]
  },
  {
   "cell_type": "code",
   "execution_count": 24,
   "id": "fc17901b-4cf1-480b-8571-056d7ce8e36b",
   "metadata": {},
   "outputs": [
    {
     "name": "stdout",
     "output_type": "stream",
     "text": [
      "[[19 21 29  7  4]\n",
      " [14 17 26 10  6]\n",
      " [18 21  4  8 23]]\n"
     ]
    }
   ],
   "source": [
    "arr=np.random.randint(1,30,(3,5))\n",
    "print(arr)"
   ]
  },
  {
   "cell_type": "code",
   "execution_count": 32,
   "id": "11471465-8b11-445e-9c88-6545f0e09f82",
   "metadata": {},
   "outputs": [
    {
     "ename": "SyntaxError",
     "evalue": "invalid syntax. Perhaps you forgot a comma? (2183196341.py, line 3)",
     "output_type": "error",
     "traceback": [
      "\u001b[1;36m  Cell \u001b[1;32mIn[32], line 3\u001b[1;36m\u001b[0m\n\u001b[1;33m    print(\"sum:\"arr.sum(axis=0))\u001b[0m\n\u001b[1;37m          ^\u001b[0m\n\u001b[1;31mSyntaxError\u001b[0m\u001b[1;31m:\u001b[0m invalid syntax. Perhaps you forgot a comma?\n"
     ]
    }
   ],
   "source": [
    "print(\"max:\",arr.max(axis=0))\n",
    "print(\"min:\",arr.min(axis=0))\n",
    "print(\"sum:\"arr.sum(axis=0))\n",
    "\n"
   ]
  },
  {
   "cell_type": "markdown",
   "id": "d402af7c-df65-4150-b793-7e77672e6050",
   "metadata": {},
   "source": [
    "#FOR COLUMNS"
   ]
  },
  {
   "cell_type": "code",
   "execution_count": 33,
   "id": "4a5a7962-211e-4174-ae4f-d764c06dab00",
   "metadata": {},
   "outputs": [
    {
     "name": "stdout",
     "output_type": "stream",
     "text": [
      "max: [29 26 23]\n",
      "min: [4 6 4]\n"
     ]
    }
   ],
   "source": [
    "print(\"max:\",arr.max(axis=1))\n",
    "print(\"min:\",arr.min(axis=1))\n",
    "\n"
   ]
  },
  {
   "cell_type": "markdown",
   "id": "8d7f2be7-8354-4718-ad26-050efb3b5420",
   "metadata": {},
   "source": [
    "\n",
    "\n",
    "#SEED FUNCTION\n",
    "\n",
    "\n",
    "\n",
    "\n",
    "\n",
    "\n",
    "\n"
   ]
  },
  {
   "cell_type": "code",
   "execution_count": 2,
   "id": "9faf61ca-94d0-40b8-b810-88356d19e69a",
   "metadata": {},
   "outputs": [
    {
     "data": {
      "text/plain": [
       "array([[11,  4,  9,  1, 11],\n",
       "       [12, 10, 11,  7,  1],\n",
       "       [13,  8, 15,  3,  3]])"
      ]
     },
     "execution_count": 2,
     "metadata": {},
     "output_type": "execute_result"
    }
   ],
   "source": [
    "np.random.seed(3)\n",
    "arr=np.random.randint(1,18,(3,5))\n",
    "arr"
   ]
  },
  {
   "cell_type": "markdown",
   "id": "f51cb32c-35f8-4cfa-9d7a-eb7110b02f93",
   "metadata": {},
   "source": [
    "SORTING FUNCTION"
   ]
  },
  {
   "cell_type": "code",
   "execution_count": 8,
   "id": "1561fb10-f94e-4221-ba9d-080fb33a9b2b",
   "metadata": {},
   "outputs": [
    {
     "name": "stdout",
     "output_type": "stream",
     "text": [
      "---------------\n",
      "[[11  4  9  1 11]\n",
      " [12 10 11  7  1]\n",
      " [13  8 15  3  3]]\n",
      "---------------\n",
      "[[ 1  4  9 11 11]\n",
      " [ 1  7 10 11 12]\n",
      " [ 3  3  8 13 15]]\n",
      "---------------\n",
      "[[11  4  9  1  1]\n",
      " [12  8 11  3  3]\n",
      " [13 10 15  7 11]]\n",
      "---------------\n"
     ]
    }
   ],
   "source": [
    "np.random.seed(3)\n",
    "arr=np.random.randint(1,18,(3,5))\n",
    "\n",
    "print('-'*15)\n",
    "print(arr)\n",
    "print('-'*15)\n",
    "print(np.sort(arr,axis=1))\n",
    "print('-'*15)\n",
    "print(np.sort(arr,axis=0,kind='heapsort'))\n",
    "print('-'*15)\n",
    "\n"
   ]
  },
  {
   "cell_type": "code",
   "execution_count": 10,
   "id": "8161e21a-d76e-454d-9cbd-b4e48e40700b",
   "metadata": {},
   "outputs": [
    {
     "name": "stdout",
     "output_type": "stream",
     "text": [
      "[[11  4  9  1  1]\n",
      " [12  8 11  3  3]\n",
      " [13 10 15  7 11]]\n"
     ]
    }
   ],
   "source": [
    "print(np.sort(arr,axis=0,kind='mergesort'))"
   ]
  },
  {
   "cell_type": "markdown",
   "id": "e25fefe7-2e84-4005-a5ba-0b3b9bc2f63a",
   "metadata": {},
   "source": [
    "#MATRIX MULTIPLICATION"
   ]
  },
  {
   "cell_type": "code",
   "execution_count": 3,
   "id": "9fe12597-e331-4dab-b9b3-6d8b3a4b73f8",
   "metadata": {},
   "outputs": [
    {
     "data": {
      "text/plain": [
       "array([[6, 9],\n",
       "       [3, 5]])"
      ]
     },
     "execution_count": 3,
     "metadata": {},
     "output_type": "execute_result"
    }
   ],
   "source": [
    "np.random.seed()\n",
    "arr1=np.random.randint(1,10,(2,2))\n",
    "arr2=np.random.randint(1,10,(2,2))\n",
    "\n",
    "arr1"
   ]
  },
  {
   "cell_type": "markdown",
   "id": "b04e41ec-d5b3-4aa4-a14f-6fbd992a0388",
   "metadata": {},
   "source": [
    "arr2"
   ]
  },
  {
   "cell_type": "code",
   "execution_count": 25,
   "id": "d20020b3-1027-43d3-87c4-0c54bdab6df1",
   "metadata": {},
   "outputs": [
    {
     "ename": "ValueError",
     "evalue": "shapes (2,4) and (2,4) not aligned: 4 (dim 1) != 2 (dim 0)",
     "output_type": "error",
     "traceback": [
      "\u001b[1;31m---------------------------------------------------------------------------\u001b[0m",
      "\u001b[1;31mValueError\u001b[0m                                Traceback (most recent call last)",
      "Cell \u001b[1;32mIn[25], line 1\u001b[0m\n\u001b[1;32m----> 1\u001b[0m arr1\u001b[38;5;241m.\u001b[39mdot(arr2)\n\u001b[0;32m      2\u001b[0m arr1\u001b[38;5;129m@arr2\u001b[39m\n",
      "\u001b[1;31mValueError\u001b[0m: shapes (2,4) and (2,4) not aligned: 4 (dim 1) != 2 (dim 0)"
     ]
    }
   ],
   "source": [
    "arr1.dot(arr2)\n"
   ]
  },
  {
   "cell_type": "code",
   "execution_count": 6,
   "id": "375044aa-7011-4a78-b10a-e3b8cdc3896c",
   "metadata": {},
   "outputs": [
    {
     "data": {
      "text/plain": [
       "array([[39, 61],\n",
       "       [42, 64]])"
      ]
     },
     "execution_count": 6,
     "metadata": {},
     "output_type": "execute_result"
    }
   ],
   "source": [
    "arr2.dot(arr1)"
   ]
  },
  {
   "cell_type": "code",
   "execution_count": 7,
   "id": "25374705-315d-4a6d-a983-ef25e8e76e53",
   "metadata": {},
   "outputs": [],
   "source": [
    " # P O W E R"
   ]
  },
  {
   "cell_type": "markdown",
   "id": "67e505b1-9d36-4b28-95a1-aebbeaf1c35c",
   "metadata": {},
   "source": [
    "np.random.seed()\n",
    "arr1=np.random.randint(1,10,(2,2))\n",
    "arr2=np.random.randint(1,10,(2,2))\n",
    "\n",
    "\n",
    "print(arr1)\n",
    "print(arr1**4)"
   ]
  },
  {
   "cell_type": "code",
   "execution_count": 12,
   "id": "b1ecc9f6-1ebc-4a8f-91c3-c77bed25d750",
   "metadata": {},
   "outputs": [],
   "source": [
    "#PERCENTILE FUNCTION"
   ]
  },
  {
   "cell_type": "code",
   "execution_count": 16,
   "id": "e140d7ff-c19f-4f17-abba-fcd6e1ffbd33",
   "metadata": {},
   "outputs": [
    {
     "name": "stdout",
     "output_type": "stream",
     "text": [
      "[11  4  9  1 11 12 10 11  7  1]\n",
      "---------------\n",
      "[ 1  1  4  7  9 10 11 11 11 12]\n",
      "---------------\n",
      "10.040000000000001\n"
     ]
    }
   ],
   "source": [
    "np.random.seed(3)\n",
    "arr=np.random.randint(1,18,10)\n",
    "print(arr)\n",
    "print('-'*15)\n",
    "arr=np.sort(arr)\n",
    "print(arr)\n",
    "print('-'*15)\n",
    "\n",
    "print(np.percentile(arr,56))"
   ]
  },
  {
   "cell_type": "markdown",
   "id": "214a9460-dfef-460b-8647-fb797ad42b36",
   "metadata": {},
   "source": [
    "#MEAN,VARIANCE AND STANDARD DEVIATION"
   ]
  },
  {
   "cell_type": "markdown",
   "id": "58bf1b4f-58b8-404b-a171-420dd9619f31",
   "metadata": {},
   "source": [
    "np.random.seed(3)\n",
    "arr=np.random.randint(1,18,10)\n",
    "print(arr)\n",
    "print(arr.mean())\n",
    "print(arr.std())\n",
    "print(arr.var())"
   ]
  },
  {
   "cell_type": "code",
   "execution_count": 22,
   "id": "50dea45c-fe0b-4a7c-adca-c99e40231711",
   "metadata": {},
   "outputs": [],
   "source": [
    "#FILTERING NUMPY ARRAY"
   ]
  },
  {
   "cell_type": "code",
   "execution_count": 26,
   "id": "dfdd44e7-7513-483c-99d2-2949aa1c43a0",
   "metadata": {},
   "outputs": [
    {
     "name": "stdout",
     "output_type": "stream",
     "text": [
      "[ 1  2  3  4  5  6  7  8  9 10 11 12 13 14]\n",
      "[ True  True  True  True  True  True  True  True  True False False False\n",
      " False False]\n",
      "[1 2 3 4 5 6]\n"
     ]
    }
   ],
   "source": [
    "arr=np.arange(1,15)\n",
    "print(arr)\n",
    "print(arr<10)\n",
    "print(arr[arr<7])\n"
   ]
  },
  {
   "cell_type": "markdown",
   "id": "8fb972f6-84a7-43fd-b19c-cc73de684a76",
   "metadata": {},
   "source": [
    "#TRANSPOSING AN ARRAY"
   ]
  },
  {
   "cell_type": "code",
   "execution_count": 28,
   "id": "15734954-a634-4fc0-933c-353d6a96df93",
   "metadata": {},
   "outputs": [
    {
     "name": "stdout",
     "output_type": "stream",
     "text": [
      "[[ 9 15  2 11 25]\n",
      " [ 8 25 12  2 16]\n",
      " [17  6 21 18 22]]\n",
      "---------------\n",
      "[[ 9  8 17]\n",
      " [15 25  6]\n",
      " [ 2 12 21]\n",
      " [11  2 18]\n",
      " [25 16 22]]\n"
     ]
    }
   ],
   "source": [
    "arr=np.random.randint(1,28,(3,5))\n",
    "print(arr)\n",
    "print('-'*15)\n",
    "print(arr.T)\n"
   ]
  },
  {
   "cell_type": "markdown",
   "id": "ee33c53c-3f28-4c10-b747-d4a17a10748c",
   "metadata": {},
   "source": [
    "#CONCATENATE"
   ]
  },
  {
   "cell_type": "code",
   "execution_count": 4,
   "id": "2dcce1e8-a27f-4639-b545-5bac2cdcbb65",
   "metadata": {},
   "outputs": [
    {
     "name": "stdout",
     "output_type": "stream",
     "text": [
      "[[8 8 2 5]\n",
      " [8 8 1 3]]\n",
      "---------------\n",
      "[[9 6 5 3]\n",
      " [1 2 9 4]]\n",
      "[[8 8 2 5]\n",
      " [8 8 1 3]\n",
      " [9 6 5 3]\n",
      " [1 2 9 4]]\n",
      "---------------\n",
      "[[8 8 2 5 9 6 5 3]\n",
      " [8 8 1 3 1 2 9 4]]\n"
     ]
    }
   ],
   "source": [
    "arr1=np.random.randint(1,10,(2,4))\n",
    "arr2=np.random.randint(1,10,(2,4))\n",
    "print(arr1)\n",
    "print('-'*15)\n",
    "print(arr2)\n",
    "print(np.concatenate((arr1,arr2),axis=0))\n",
    "print('-'*15)\n",
    "print(np.concatenate((arr1,arr2),axis=1))      \n",
    "      "
   ]
  },
  {
   "cell_type": "markdown",
   "id": "247d4971-28b8-4199-b3ac-8bdc5da6742e",
   "metadata": {},
   "source": [
    "#HSTACK AND VSTACK"
   ]
  },
  {
   "cell_type": "code",
   "execution_count": 9,
   "id": "eb53c99c-6818-4838-a898-afd13dccdf05",
   "metadata": {},
   "outputs": [
    {
     "name": "stdout",
     "output_type": "stream",
     "text": [
      "[[8 8 2 5]\n",
      " [8 8 1 3]]\n",
      "[[9 6 5 3]\n",
      " [1 2 9 4]]\n",
      "[[8 8 2 5]\n",
      " [8 8 1 3]\n",
      " [9 6 5 3]\n",
      " [1 2 9 4]]\n"
     ]
    }
   ],
   "source": [
    "print(arr1)\n",
    "print(arr2)\n",
    "print(np.vstack((arr1,arr2)))\n"
   ]
  },
  {
   "cell_type": "code",
   "execution_count": 10,
   "id": "f7fb3324-6a13-4bde-9801-62c795c9fe75",
   "metadata": {},
   "outputs": [
    {
     "name": "stdout",
     "output_type": "stream",
     "text": [
      "[[8 8 2 5]\n",
      " [8 8 1 3]]\n",
      "[[9 6 5 3]\n",
      " [1 2 9 4]]\n",
      "[[8 8 2 5 9 6 5 3]\n",
      " [8 8 1 3 1 2 9 4]]\n"
     ]
    }
   ],
   "source": [
    "print(arr1)\n",
    "print(arr2)\n",
    "print(np.hstack((arr1,arr2)))\n"
   ]
  },
  {
   "cell_type": "markdown",
   "id": "32d52b53-3812-46aa-a751-5c900232f687",
   "metadata": {},
   "source": [
    "#SPLITTING ARRAYS"
   ]
  },
  {
   "cell_type": "code",
   "execution_count": 14,
   "id": "299929b3-0e2a-4f86-9706-26847db24d76",
   "metadata": {},
   "outputs": [
    {
     "name": "stdout",
     "output_type": "stream",
     "text": [
      "[[14 14 10 13]\n",
      " [ 4  8  8 16]\n",
      " [ 9  5 14 17]\n",
      " [ 1 12 16 16]]\n"
     ]
    }
   ],
   "source": [
    "arr=np.random.randint(1,18,(4,4))\n",
    "print(arr)\n"
   ]
  },
  {
   "cell_type": "code",
   "execution_count": 15,
   "id": "4b89941e-696c-4d8e-8bc8-36a7b6adc62c",
   "metadata": {},
   "outputs": [
    {
     "data": {
      "text/plain": [
       "[array([[14, 14, 10, 13],\n",
       "        [ 4,  8,  8, 16]]),\n",
       " array([[ 9,  5, 14, 17],\n",
       "        [ 1, 12, 16, 16]])]"
      ]
     },
     "execution_count": 15,
     "metadata": {},
     "output_type": "execute_result"
    }
   ],
   "source": [
    "np.vsplit(arr,2)"
   ]
  },
  {
   "cell_type": "markdown",
   "id": "25fda3ee-73e9-434b-acbe-7587c8e348e0",
   "metadata": {},
   "source": [
    "#TURNNING PICS INTO NUMPY ARRAYS"
   ]
  },
  {
   "cell_type": "code",
   "execution_count": 18,
   "id": "6638e4cc-086b-4fec-9128-cbcc19ca8ef8",
   "metadata": {},
   "outputs": [],
   "source": [
    "from matplotlib.image import imread"
   ]
  },
  {
   "cell_type": "code",
   "execution_count": 22,
   "id": "65620dea-59e6-4414-8f67-86c16f6cca9a",
   "metadata": {},
   "outputs": [
    {
     "data": {
      "text/plain": [
       "(607, 1000, 3)"
      ]
     },
     "execution_count": 22,
     "metadata": {},
     "output_type": "execute_result"
    }
   ],
   "source": [
    "img=imread('GFG.png')\n",
    "img.shape"
   ]
  },
  {
   "cell_type": "code",
   "execution_count": 23,
   "id": "c45a452a-a54b-4401-b05f-48f40b0b7927",
   "metadata": {},
   "outputs": [
    {
     "data": {
      "text/plain": [
       "array([[[0.09803922, 0.74509805, 0.92941177],\n",
       "        [0.09803922, 0.74509805, 0.92941177],\n",
       "        [0.09803922, 0.74509805, 0.92941177],\n",
       "        ...,\n",
       "        [0.09803922, 0.74509805, 0.92941177],\n",
       "        [0.09803922, 0.74509805, 0.92941177],\n",
       "        [0.09803922, 0.74509805, 0.92941177]],\n",
       "\n",
       "       [[0.09803922, 0.74509805, 0.92941177],\n",
       "        [0.09803922, 0.74509805, 0.92941177],\n",
       "        [0.09803922, 0.74509805, 0.92941177],\n",
       "        ...,\n",
       "        [0.09803922, 0.74509805, 0.92941177],\n",
       "        [0.09803922, 0.74509805, 0.92941177],\n",
       "        [0.09803922, 0.74509805, 0.92941177]],\n",
       "\n",
       "       [[0.09803922, 0.74509805, 0.92941177],\n",
       "        [0.09803922, 0.74509805, 0.92941177],\n",
       "        [0.09803922, 0.74509805, 0.92941177],\n",
       "        ...,\n",
       "        [0.09803922, 0.74509805, 0.92941177],\n",
       "        [0.09803922, 0.74509805, 0.92941177],\n",
       "        [0.09803922, 0.74509805, 0.92941177]],\n",
       "\n",
       "       ...,\n",
       "\n",
       "       [[0.05882353, 0.6039216 , 0.75686276],\n",
       "        [0.05882353, 0.6039216 , 0.75686276],\n",
       "        [0.05882353, 0.6039216 , 0.75686276],\n",
       "        ...,\n",
       "        [0.05882353, 0.6039216 , 0.75686276],\n",
       "        [0.05882353, 0.6039216 , 0.75686276],\n",
       "        [0.05882353, 0.6039216 , 0.75686276]],\n",
       "\n",
       "       [[0.05882353, 0.6039216 , 0.75686276],\n",
       "        [0.05882353, 0.6039216 , 0.75686276],\n",
       "        [0.05882353, 0.6039216 , 0.75686276],\n",
       "        ...,\n",
       "        [0.05882353, 0.6039216 , 0.75686276],\n",
       "        [0.05882353, 0.6039216 , 0.75686276],\n",
       "        [0.05882353, 0.6039216 , 0.75686276]],\n",
       "\n",
       "       [[0.05882353, 0.6039216 , 0.75686276],\n",
       "        [0.05882353, 0.6039216 , 0.75686276],\n",
       "        [0.05882353, 0.6039216 , 0.75686276],\n",
       "        ...,\n",
       "        [0.05882353, 0.6039216 , 0.75686276],\n",
       "        [0.05882353, 0.6039216 , 0.75686276],\n",
       "        [0.05882353, 0.6039216 , 0.75686276]]], dtype=float32)"
      ]
     },
     "execution_count": 23,
     "metadata": {},
     "output_type": "execute_result"
    }
   ],
   "source": [
    "img"
   ]
  },
  {
   "cell_type": "code",
   "execution_count": 24,
   "id": "04ce66f1-d002-42ed-843c-c5d3d5759c2b",
   "metadata": {},
   "outputs": [
    {
     "data": {
      "text/plain": [
       "1.0"
      ]
     },
     "execution_count": 24,
     "metadata": {},
     "output_type": "execute_result"
    }
   ],
   "source": [
    " np.max(img)"
   ]
  },
  {
   "cell_type": "code",
   "execution_count": null,
   "id": "229b65b1-44f8-4dd9-bfa5-5fba89bb0ede",
   "metadata": {},
   "outputs": [],
   "source": []
  },
  {
   "cell_type": "code",
   "execution_count": null,
   "id": "46b029b9-4de8-47fa-80e6-b50d2fe081da",
   "metadata": {},
   "outputs": [],
   "source": []
  }
 ],
 "metadata": {
  "kernelspec": {
   "display_name": "Python 3 (ipykernel)",
   "language": "python",
   "name": "python3"
  },
  "language_info": {
   "codemirror_mode": {
    "name": "ipython",
    "version": 3
   },
   "file_extension": ".py",
   "mimetype": "text/x-python",
   "name": "python",
   "nbconvert_exporter": "python",
   "pygments_lexer": "ipython3",
   "version": "3.11.7"
  }
 },
 "nbformat": 4,
 "nbformat_minor": 5
}
